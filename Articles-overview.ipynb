{
 "cells": [
  {
   "cell_type": "markdown",
   "metadata": {},
   "source": [
    "# <center> Обзор литературы "
   ]
  },
  {
   "cell_type": "markdown",
   "metadata": {},
   "source": [
    "В данном обзоре хочется понять:\n",
    " - как принято определять волатильность\n",
    " - как принято предсказвыть волатильность\n",
    " - каких резльтатов удается достичь\n",
    " - как полученные результаты воспроизводтся для криповают"
   ]
  },
  {
   "cell_type": "markdown",
   "metadata": {},
   "source": [
    "## Подходы к определению волатильности"
   ]
  },
  {
   "cell_type": "markdown",
   "metadata": {},
   "source": [
    "Обычно под волатильностью принято понимать\n",
    "величину, описывающую изменчивость цены актива. Хотя волатильность не\n",
    "может быть рассчитана напрямую, существует множество методов ее\n",
    "оценки.\n",
    "\n",
    "В качестве\n",
    "наблюдаемого приближения волатильности в качестве прогнозной силы в\n",
    "литературе и на практике широко используется `«реализованная волатильность»` [1].\n",
    "\n",
    "Она опредляется следующим образом:\n",
    "\n",
    "$$ r_t = log(P_t) - log(P_{t-1})$$\n",
    "$$ RV = \\sqrt{\\sum_{i=1}^{N} r_i^2}$$\n",
    "\n",
    "Где $P_t$ - цена актива в момент времени $t$.\n",
    "\n",
    "После изучения свойств `RV` оценок интерес к ним вырос и\n",
    "применение `RV` оценок вышли за пределы `HAR-RV` моделей. Так, оно из\n",
    " направлений моделирования и прогнозирования волатильности\n",
    "связано с моделирования `“rough”` волатильности, появившееся после статьи [2].\n",
    "\n",
    "Она определяется следующим образом:\n",
    "\n",
    "$$ m(q, \\Delta) = \\frac{1}{N} \\sum_{k=1}^{N} |log(\\sigma_{k,\\Delta}) - log(\\sigma_{k-1,\\Delta}) |^q$$\n",
    "\n",
    "В данном подходе рессматривается дискретная волатильность, рассчитанная за окно $\\Delta$. В данном случае $q$ является параметром. \n",
    "\n",
    "Если резюмировать подходы, встречающиеся в статьях, то можно выделить следующие моменты:\n",
    "\n",
    " - В качастве оценки волатильности используют оценки дисперсии финансового инструмента, либо суммарную величину относительых приращений цены, рассчитанные за определеный период\n",
    " - Реализованная волатильность является наиболее изученным и используемым приближением волатильности. Это связано с тем, что реализованная волатильность является состоятельной оценкой ненаблюдаемой волатильности."
   ]
  },
  {
   "cell_type": "markdown",
   "metadata": {},
   "source": [
    "## Подходы к предсказанию волатильности"
   ]
  },
  {
   "cell_type": "markdown",
   "metadata": {},
   "source": [
    "Одними из наиболее популярных на протяжении долгого времени\n",
    "является семейство `GARCH` моделей. Основной особенностью этих\n",
    "моделей является то, что они рассматривают волатильность как\n",
    "ненаблюдаемую величину. Одновременно GARCH модели способны\n",
    "моделировать некоторые важные эмпирические особенности\n",
    "волатильности, чем и объясняется их популярность. \n",
    "\n",
    "Помимо семейства\n",
    "`GARCH` моделей в литературе предлагается использование других\n",
    "семейств, таких как `ARFIMA`, `MIDAS`, `модель Хестона` и др. Эти модели работают с реализованной волатильностью.\n",
    "\n",
    "\n",
    "Также достаточно популярной явяется `HAR-RV` модель [4]. Эта модель основана на концепции поведения агентов на финансовых рынках, согласно которой они отличаются своим восприятием волатильности в зависимости от их инвестиционных горизонтов и делятся на краткосрочных, среднесрочных и долгосрочных.\n",
    "\n",
    "Семейство `HAR-RV` моделей основывается на гипотезе о гетерогенности рынка. Модели этого семейства способны воспроизводить наблюдаемые свойства волатильности, такие\n",
    "как: «длинная память» и устойчивость волатильности, «каскад волатильности» (иерархичная структура волатильности, при которой долгосрочная волатильность оказывает сильное влияние на краткосрочную волатильность, однако краткосрочная волатильность почти\n",
    "не влияет на долгосрочную), «толстые хвосты», а также имеют экономическую интерпретацию.\n",
    "\n",
    "Хотя сами по себе они не являются моделями с длинной памятью, а представляют собой сумму AR процессов, однако в работе [6] было показано наличие эффекта\n",
    "долгой памяти даже для суммы трех `AR(1)` процессов, что также подтверждается эмпирическими результатами расчета корреляционной функции для `HAR-RV` моделей. Еще одной\n",
    "особенностью `HAR-RV` модели является рассмотрение волатильности как ненаблюдаемой\n",
    "величины [5], для которой существует наблюдаемая оценка, которую можно оценить при помощи высокочастотных данных. Эта оценка называется реализованной волатильностью\n",
    "и обозначается `RV`.\n",
    "\n",
    "В литературе вневыборочные в целом \n",
    "демонстрирующие превосходство `HAR-RV` моделей над другими\n",
    "семействами. Сравнение моделей по вневыборочной прогнозной силе\n",
    "связано с невозможностью гарантировать результаты превосходства тех\n",
    "или иных моделей на новых данных. "
   ]
  },
  {
   "cell_type": "markdown",
   "metadata": {},
   "source": [
    "## Текущие результаты и криптовалюты"
   ]
  },
  {
   "cell_type": "markdown",
   "metadata": {},
   "source": [
    "В качестве метрики качества в работах частно используется Q-Like оценка:"
   ]
  },
  {
   "attachments": {
    "image.png": {
     "image/png": "[encoded data removed]"
    }
   },
   "cell_type": "markdown",
   "metadata": {},
   "source": [
    "![image.png](attachment:image.png)"
   ]
  },
  {
   "cell_type": "markdown",
   "metadata": {},
   "source": [
    "В работе [7] сравниваются результаты разных модификаций `GARCH` моделей для предсказания волатильности на горизонты в 1, 7, 14 секунд. Результаты достаточно хорошие для наиболее торгуемых криптовалют. Это вселяет надежду, что на короткие горизонты волатильность хорошо пргнозируется."
   ]
  },
  {
   "cell_type": "markdown",
   "metadata": {},
   "source": [
    "В работе [8] производится сравнение для `HAR` и `GARCH` моделей. Наблюдается некоторое превосходство `HAR` моделей, при этом превосходство увеличивается с увеличением горизонта."
   ]
  },
  {
   "cell_type": "markdown",
   "metadata": {},
   "source": [
    "## Выводы и актуальность"
   ]
  },
  {
   "cell_type": "markdown",
   "metadata": {},
   "source": [
    " - По результатам обзора в целом становится понятно, как определять и измерять волатильность. Все рассмотренные подходы в той или иной форме работают с реализованной волатильностью. Отличаются по большей части горизонты, на которых она считается.\n",
    " - Основными моделями на данный момент являются GARCH и HAR модели, при этом в работах, посвещенных волатильности криптовалют испоьзуются эти же модели\n",
    " - Основными метриками для оценки качества прогноза являются R^2 и Q-like, их и следует использовать для сравнения с результатами публикаций\n",
    " - На краткосрочные горизонты волатильость хорошо пронозируется изученными моделями\n",
    " \n",
    "Актуальность:\n",
    "\n",
    " - Новые данные. Я рассматриваю не только популярные финансовые инструменты, такие как BTC, но и менее очевидные, такие как SHIBA, будут получены результаты прогнозирования и для них.\n",
    " - В работе рассматриваются как горизонты, наблюдаемые в публикациях, так и более длинные.\n",
    " - Вкад волатильности как признака для прогнозирования рынка. В работе проодятся A/B тесты с новыми признаками, построенными по волатильности.\n",
    " - Хочется несколько улучшить результаты прогноза волатильности на длинные горизонты. Для этого попробую раарботать собственную модель прогнозирования."
   ]
  },
  {
   "cell_type": "markdown",
   "metadata": {},
   "source": [
    "## Источники"
   ]
  },
  {
   "cell_type": "markdown",
   "metadata": {},
   "source": [
    "1. Modeling and Forecasting Realized Volatility Torben G. Andersen,Tim Bollerslev,Francis X. Diebold,Paul Labys 2003\n",
    "\n",
    "2. Volatility is rough Jim Gatheral Baruch College, City University of New York 2014\n",
    "\n",
    "3. Persistence in Variance, Structural Change, and the GARCH Model Christopher G. Lamoureux &William D. Lastrapes 2012\n",
    "\n",
    "4. The Heterogeneous Autoregressive model of the Realized Volatility  F. Corsi  2009\n",
    "\n",
    "5. Фондовые рынки Stock markets 2017 \n",
    "\n",
    "6. LeBaron 2001\n",
    "\n",
    "7. Predicting the Volatility of Cryptocurrency Time-Series Leopoldo Catania, Stefano Grassi, and Francesco 2018 Ravazzolo\n",
    "\n",
    "8. Forecasting volatility of Bitcoin Bergslia Andrea 2020"
   ]
  }
 ],
 "metadata": {
  "kernelspec": {
   "display_name": "Python 3",
   "language": "python",
   "name": "python3"
  },
  "language_info": {
   "codemirror_mode": {
    "name": "ipython",
    "version": 3
   },
   "file_extension": ".py",
   "mimetype": "text/x-python",
   "name": "python",
   "nbconvert_exporter": "python",
   "pygments_lexer": "ipython3",
   "version": "3.6.3"
  }
 },
 "nbformat": 4,
 "nbformat_minor": 2
}
